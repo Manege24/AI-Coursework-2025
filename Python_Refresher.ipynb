{
  "nbformat": 4,
  "nbformat_minor": 0,
  "metadata": {
    "colab": {
      "provenance": [],
      "include_colab_link": true
    },
    "kernelspec": {
      "name": "python3",
      "display_name": "Python 3"
    },
    "language_info": {
      "name": "python"
    }
  },
  "cells": [
    {
      "cell_type": "markdown",
      "metadata": {
        "id": "view-in-github",
        "colab_type": "text"
      },
      "source": [
        "<a href=\"https://colab.research.google.com/github/Manege24/AI-Coursework-2025/blob/main/Python_Refresher.ipynb\" target=\"_parent\"><img src=\"https://colab.research.google.com/assets/colab-badge.svg\" alt=\"Open In Colab\"/></a>"
      ]
    },
    {
      "cell_type": "markdown",
      "source": [
        "## Basics of Python Programming"
      ],
      "metadata": {
        "id": "h0g6WZFXWne7"
      }
    },
    {
      "cell_type": "code",
      "source": [],
      "metadata": {
        "id": "qCwJg8E8U9BM"
      },
      "execution_count": null,
      "outputs": []
    },
    {
      "cell_type": "markdown",
      "source": [
        "### Importing Libraries"
      ],
      "metadata": {
        "id": "bMmRrskEcZ1H"
      }
    },
    {
      "cell_type": "code",
      "source": [
        "import time\n",
        "# for libraries you might not have, install first using pip"
      ],
      "metadata": {
        "id": "ai1Kx7xzcctT"
      },
      "execution_count": null,
      "outputs": []
    },
    {
      "cell_type": "markdown",
      "source": [
        "### Input and Output"
      ],
      "metadata": {
        "id": "OEsBn7jwXkQx"
      }
    },
    {
      "cell_type": "code",
      "source": [
        "print(\"This is BBT 3201\")\n",
        "\n",
        "print(\"Local time:\", time.ctime()) # print current time from time library function ctime()"
      ],
      "metadata": {
        "id": "TbNZIQUYXpbj",
        "colab": {
          "base_uri": "https://localhost:8080/"
        },
        "outputId": "0def4203-4251-498e-93da-b889422b8a28"
      },
      "execution_count": null,
      "outputs": [
        {
          "output_type": "stream",
          "name": "stdout",
          "text": [
            "This is BBT 3201\n",
            "Local time: Thu Aug 29 10:28:13 2024\n"
          ]
        }
      ]
    },
    {
      "cell_type": "code",
      "source": [
        "name = str(input(\"Enter your name: \"))\n",
        "age = int(input(\"Enter your age: \")) # this is typecasting - enforcing a variable to be of a particular data type\n",
        "print(\"Name:\\t\", name)\n",
        "print(\"Age:\\t\", age)"
      ],
      "metadata": {
        "id": "at6osNfBXtL6"
      },
      "execution_count": null,
      "outputs": []
    },
    {
      "cell_type": "markdown",
      "source": [
        "### Conditional Structures"
      ],
      "metadata": {
        "id": "xjoaIuKoYVgP"
      }
    },
    {
      "cell_type": "code",
      "source": [
        "hour = int(input(\"Enter an hour of the day in 24h time: \"))\n",
        "if 6 <= hour < 12:\n",
        "print(\"Good morning!\") # there is an Error in this line: it should only run within this condition and not part of the main code; resolve it before running\n",
        "elif 12 <= hour < 17:\n",
        "  print(\"Good afternoon!\")\n",
        "elif 17 <= hour < 20:\n",
        "  print(\"Good evening!\")\n",
        "else:\n",
        "  print(\"Good night!\")\n"
      ],
      "metadata": {
        "id": "AJlgkr3dYkTA",
        "colab": {
          "base_uri": "https://localhost:8080/",
          "height": 124
        },
        "outputId": "c459c2ae-2dcc-4ca0-c815-518e8757b1a4"
      },
      "execution_count": null,
      "outputs": [
        {
          "output_type": "error",
          "ename": "IndentationError",
          "evalue": "expected an indented block after 'if' statement on line 2 (ipython-input-1551124610.py, line 3)",
          "traceback": [
            "\u001b[0;36m  File \u001b[0;32m\"/tmp/ipython-input-1551124610.py\"\u001b[0;36m, line \u001b[0;32m3\u001b[0m\n\u001b[0;31m    print(\"Good morning!\") # notice where the space of this from the start of the line before. this indicates that this line should only run within this condition\u001b[0m\n\u001b[0m    ^\u001b[0m\n\u001b[0;31mIndentationError\u001b[0m\u001b[0;31m:\u001b[0m expected an indented block after 'if' statement on line 2\n"
          ]
        }
      ]
    },
    {
      "cell_type": "markdown",
      "source": [
        "### Iterative Structures"
      ],
      "metadata": {
        "id": "8pef_rm6aJzT"
      }
    },
    {
      "cell_type": "code",
      "source": [
        "birthday = int(input(\"Enter the age you are turning this year: \"))\n",
        "x = 1\n",
        "while x <= birthday:\n",
        "  print(\"Happy birthday!\")\n",
        "  x+=1"
      ],
      "metadata": {
        "id": "L8LlTWrxaI8l",
        "colab": {
          "base_uri": "https://localhost:8080/"
        },
        "outputId": "23539c90-cc00-4e3d-c881-cd83c32601c9"
      },
      "execution_count": null,
      "outputs": [
        {
          "output_type": "stream",
          "name": "stdout",
          "text": [
            "Enter the age you are turning this year: 12\n",
            "Happy birthday!\n",
            "Happy birthday!\n",
            "Happy birthday!\n",
            "Happy birthday!\n",
            "Happy birthday!\n",
            "Happy birthday!\n",
            "Happy birthday!\n",
            "Happy birthday!\n",
            "Happy birthday!\n",
            "Happy birthday!\n",
            "Happy birthday!\n",
            "Happy birthday!\n"
          ]
        }
      ]
    },
    {
      "cell_type": "code",
      "source": [
        "# note how variables in colab can be reused throughout the document.\n",
        "for x in range(0, birthday, 1):\n",
        "  print(\"Happy birthday!\")"
      ],
      "metadata": {
        "id": "zVw8HHj0ar93",
        "colab": {
          "base_uri": "https://localhost:8080/"
        },
        "outputId": "eee12bf2-db96-4a53-d556-b83b4ff036cf"
      },
      "execution_count": null,
      "outputs": [
        {
          "output_type": "stream",
          "name": "stdout",
          "text": [
            "Happy birthday!\n",
            "Happy birthday!\n",
            "Happy birthday!\n",
            "Happy birthday!\n",
            "Happy birthday!\n",
            "Happy birthday!\n",
            "Happy birthday!\n",
            "Happy birthday!\n",
            "Happy birthday!\n",
            "Happy birthday!\n",
            "Happy birthday!\n",
            "Happy birthday!\n"
          ]
        }
      ]
    },
    {
      "cell_type": "markdown",
      "source": [
        "### Functions"
      ],
      "metadata": {
        "id": "g9iFZ2ENbDMD"
      }
    },
    {
      "cell_type": "code",
      "source": [
        "def compliment(choice):\n",
        "  if choice == 1:\n",
        "    print(\"You're doing great! :)\")\n",
        "  else:\n",
        "    print(\"Have a great day! :D\")\n",
        "\n",
        "option = int(input(\"Enter any number: \"))\n",
        "compliment(option)"
      ],
      "metadata": {
        "id": "4eay5JHSbCly"
      },
      "execution_count": null,
      "outputs": []
    },
    {
      "cell_type": "markdown",
      "source": [
        "### Arrays"
      ],
      "metadata": {
        "id": "ju77YSKfbmd5"
      }
    },
    {
      "cell_type": "code",
      "source": [
        "nbo_roads = [\"Mombasa Road\", \"Thika Superhighway\"]\n",
        "print(nbo_roads[0])\n",
        "\n",
        "nbo_roads.append(\"Jogoo Road\")\n",
        "print(nbo_roads)\n",
        "\n",
        "print(\"Number of roads: \", len(nbo_roads))"
      ],
      "metadata": {
        "id": "uFEomwwqbn6x",
        "colab": {
          "base_uri": "https://localhost:8080/"
        },
        "outputId": "4b6d409e-3377-4279-feff-82298895a53a"
      },
      "execution_count": null,
      "outputs": [
        {
          "output_type": "stream",
          "name": "stdout",
          "text": [
            "Mombasa Road\n",
            "['Mombasa Road', 'Thika Superhighway', 'Jogoo Road']\n",
            "Number of roads:  3\n"
          ]
        }
      ]
    },
    {
      "cell_type": "code",
      "source": [
        "#B.\n",
        "#1) Converting days to seconds\n",
        "#Getting input from user\n",
        "days=input('Provide the number of days: ')\n",
        "days_float=float(days) #Converting days to a numeric value\n",
        "sec=days_float*24*3600 #No of seconds\n",
        "print(f\"There are {sec} seconds in {days_float} day(s).\") #Printing the result"
      ],
      "metadata": {
        "colab": {
          "base_uri": "https://localhost:8080/"
        },
        "id": "fU8vYsQpVHJf",
        "outputId": "801a52df-3ae7-4cff-8512-421fcda4a2a5"
      },
      "execution_count": 3,
      "outputs": [
        {
          "output_type": "stream",
          "name": "stdout",
          "text": [
            "Provide the number of days: 2\n",
            "There are 172800.0 seconds in 2.0 day(s).\n"
          ]
        }
      ]
    },
    {
      "cell_type": "code",
      "source": [
        "#2) Calcuting the volume of a sphere\n",
        "#Import to get the value of pi\n",
        "import math\n",
        "#Get input from user\n",
        "rad=input('Provide the radius of the sphere: ')\n",
        "rad_float=float(rad) #Converting radius to a numeric value\n",
        "vol=(4/3)*math.pi*(rad_float**3) #Calculating the volume including the exponential operator.\n",
        "print(f\"The volume of a sphere with a radius of {rad_float} is {vol:.3f} cubic unit(s).\") #Printing the result"
      ],
      "metadata": {
        "colab": {
          "base_uri": "https://localhost:8080/"
        },
        "id": "gQOWPpJeZRpq",
        "outputId": "52c283a8-9a44-40af-99f2-09360e48292b"
      },
      "execution_count": 4,
      "outputs": [
        {
          "output_type": "stream",
          "name": "stdout",
          "text": [
            "Provide the radius of the sphere: 4\n",
            "The volume of a sphere with a radius of 4.0 is 268.083 cubic unit(s).\n"
          ]
        }
      ]
    },
    {
      "cell_type": "code",
      "source": [
        "#3)Compute the area and perimeter of a square using functions\n",
        "# Function to calculate the area of a square\n",
        "def calc_area(side):\n",
        "    \"\"\"\n",
        "    Calculate the area of a square.\n",
        "\n",
        "    Formula: area = side * side\n",
        "\n",
        "    Args:\n",
        "        side (float): Length of one side of the square\n",
        "\n",
        "    Returns:\n",
        "        float: Area of the square\n",
        "    \"\"\"\n",
        "    area = side * side\n",
        "    return area\n",
        "\n",
        "# Function to calculate the perimeter of a square\n",
        "def calc_perimeter(side):\n",
        "    \"\"\"\n",
        "    Calculate the perimeter of a square.\n",
        "\n",
        "    Formula: perimeter = 4 * side\n",
        "\n",
        "    Args:\n",
        "        side (float): Length of one side of the square\n",
        "\n",
        "    Returns:\n",
        "        float: Perimeter of the square\n",
        "    \"\"\"\n",
        "    perim = 4 * side\n",
        "    return perim\n",
        "\n",
        "# Main program function\n",
        "def main():\n",
        "    \"\"\"\n",
        "    Main function that:\n",
        "    1. Gets user input for the side length\n",
        "    2. Validates the input\n",
        "    3. Calculates area and perimeter\n",
        "    4. Displays the results\n",
        "    \"\"\"\n",
        "    try:\n",
        "        # Get input from the user\n",
        "        side_input = input(\"Enter the side length of a square: \")\n",
        "\n",
        "        # Convert the input to a float (decimal number)\n",
        "        side_length = float(side_input)\n",
        "\n",
        "        # Check if the input is positive\n",
        "        if side_length <= 0:\n",
        "            print(\"Error: Side length must be a positive number.\")\n",
        "            return\n",
        "\n",
        "        # Calculate area and perimeter using functions\n",
        "        area = calc_area(side_length)\n",
        "        perimeter = calc_perimeter(side_length)\n",
        "\n",
        "        # Display the results with formatting\n",
        "        print(f\"\\nFor a square with side length {side_length}:\")\n",
        "        print(f\"Area: {area}\")\n",
        "        print(f\"Perimeter: {perimeter}\")\n",
        "\n",
        "    except ValueError:\n",
        "        # Handle invalid input (non-numeric values)\n",
        "        print(\"Error: Please enter a valid number.\")\n",
        "\n",
        "# Run the program\n",
        "if __name__ == \"__main__\":\n",
        "    main()"
      ],
      "metadata": {
        "colab": {
          "base_uri": "https://localhost:8080/"
        },
        "id": "ijlm-gjPd8eG",
        "outputId": "c5e714c8-f323-43f2-96f8-ec9f3309ead5"
      },
      "execution_count": 5,
      "outputs": [
        {
          "output_type": "stream",
          "name": "stdout",
          "text": [
            "Enter the side length of a square: 6\n",
            "\n",
            "For a square with side length 6.0:\n",
            "Area: 36.0\n",
            "Perimeter: 24.0\n"
          ]
        }
      ]
    },
    {
      "cell_type": "code",
      "source": [
        "#4) Lowercase or Uppercase\n",
        "# Function to check if a character is uppercase\n",
        "def is_uppercase(char):\n",
        "    \"\"\"\n",
        "    Check if a character is uppercase.\n",
        "\n",
        "    Args:\n",
        "        char (str): A single character to check\n",
        "\n",
        "    Returns:\n",
        "        bool: True if the character is uppercase, False otherwise\n",
        "    \"\"\"\n",
        "    return char.isupper()\n",
        "\n",
        "# Function to check if a character is lowercase\n",
        "def is_lowercase(char):\n",
        "    \"\"\"\n",
        "    Check if a character is lowercase.\n",
        "\n",
        "    Args:\n",
        "        char (str): A single character to check\n",
        "\n",
        "    Returns:\n",
        "        bool: True if the character is lowercase, False otherwise\n",
        "    \"\"\"\n",
        "    return char.islower()\n",
        "\n",
        "# Function to validate if input is a single character\n",
        "def is_single_character(input_str):\n",
        "    \"\"\"\n",
        "    Check if the input is exactly one character.\n",
        "\n",
        "    Args:\n",
        "        input_str (str): The input string to validate\n",
        "\n",
        "    Returns:\n",
        "        bool: True if input is exactly one character, False otherwise\n",
        "    \"\"\"\n",
        "    return len(input_str) == 1\n",
        "\n",
        "# Function to validate if input is a letter\n",
        "def is_letter(char):\n",
        "    \"\"\"\n",
        "    Check if the input is a letter (A-Z or a-z).\n",
        "\n",
        "    Args:\n",
        "        char (str): A single character to check\n",
        "\n",
        "    Returns:\n",
        "        bool: True if the character is a letter, False otherwise\n",
        "    \"\"\"\n",
        "    return char.isalpha()\n",
        "\n",
        "# Main program function\n",
        "def main():\n",
        "    \"\"\"\n",
        "    Main function that:\n",
        "    1. Gets user input\n",
        "    2. Validates the input\n",
        "    3. Determines if the character is uppercase or lowercase\n",
        "    4. Displays the result\n",
        "    \"\"\"\n",
        "    # Get input from the user\n",
        "    user_input = input(\"Enter a single character: \")\n",
        "\n",
        "    # Validate that input is a single character\n",
        "    if not is_single_character(user_input):\n",
        "        print(\"Error: Please enter exactly one character.\")\n",
        "        return\n",
        "\n",
        "    # Validate that input is a letter\n",
        "    if not is_letter(user_input):\n",
        "        print(\"Error: Please enter a letter (A-Z or a-z).\")\n",
        "        return\n",
        "\n",
        "    # Determine if the character is uppercase or lowercase\n",
        "    if is_uppercase(user_input):\n",
        "        print(f\"'{user_input}' is uppercase.\")\n",
        "    elif is_lowercase(user_input):\n",
        "        print(f\"'{user_input}' is lowercase.\")\n",
        "    else:\n",
        "        print(f\"'{user_input}' is neither uppercase nor lowercase.\")\n",
        "\n",
        "# Run the program when executed\n",
        "if __name__ == \"__main__\":\n",
        "    main()"
      ],
      "metadata": {
        "colab": {
          "base_uri": "https://localhost:8080/"
        },
        "id": "QNMS-1hmhNy-",
        "outputId": "21f4b49d-8452-4ebf-ae17-c6cd44a2fdfb"
      },
      "execution_count": 8,
      "outputs": [
        {
          "output_type": "stream",
          "name": "stdout",
          "text": [
            "Enter a single character: F\n",
            "'F' is uppercase.\n"
          ]
        }
      ]
    },
    {
      "cell_type": "code",
      "source": [
        "#5) Pseudocode\n",
        "# Initialize x and y as given in the pseudocode\n",
        "x = 0\n",
        "y = 20\n",
        "\n",
        "# Use a while loop to correctly implement the 'REPEAT-UNTIL' logic\n",
        "# The loop continues until y is less than 6??\n",
        "while y >= 6:\n",
        "    # Subtract 4 from y\n",
        "    y -= 4\n",
        "    # Add 2/y to x\n",
        "    x += 2 / y\n",
        "\n",
        "# Print the final value of x\n",
        "print(x)"
      ],
      "metadata": {
        "colab": {
          "base_uri": "https://localhost:8080/"
        },
        "id": "0Gh7n583hog9",
        "outputId": "ce632ce1-e181-4c2e-de2c-20bcfe720865"
      },
      "execution_count": 10,
      "outputs": [
        {
          "output_type": "stream",
          "name": "stdout",
          "text": [
            "1.0416666666666665\n"
          ]
        }
      ]
    },
    {
      "cell_type": "code",
      "source": [
        "#6) Prompt a user to input 5 values and then provide their average.\n",
        "# Initialize an empty list to store the values\n",
        "val = []\n",
        "\n",
        "# Use a loop to continually input 5 values\n",
        "for i in range(5):\n",
        "    while True:\n",
        "        try:\n",
        "            # Prompt the user for a value and convert it to a float\n",
        "            value = float(input(f\"Enter value {i+1} of 5: \"))\n",
        "            val.append(value)\n",
        "            break  # Exit the while loop if input is successful\n",
        "        except ValueError:\n",
        "            # Handle invalid input (non-numeric values)\n",
        "            print(\"Invalid input. Please enter a number.\")\n",
        "\n",
        "# Calculate the average of the values\n",
        "average = sum(val) / len(val)\n",
        "\n",
        "# Print the average\n",
        "print(f\"\\nThe average of the entered values is: {average}\")"
      ],
      "metadata": {
        "colab": {
          "base_uri": "https://localhost:8080/"
        },
        "id": "BId90e5hjeV6",
        "outputId": "3e0e3bdc-ae75-44bd-f175-9447eab9a17a"
      },
      "execution_count": 11,
      "outputs": [
        {
          "output_type": "stream",
          "name": "stdout",
          "text": [
            "Enter value 1 of 5: 1\n",
            "Enter value 2 of 5: 2\n",
            "Enter value 3 of 5: 3\n",
            "Enter value 4 of 5: 4\n",
            "Enter value 5 of 5: 5\n",
            "\n",
            "The average of the entered values is: 3.0\n"
          ]
        }
      ]
    },
    {
      "cell_type": "code",
      "source": [
        "#7)"
      ],
      "metadata": {
        "id": "HP16brB_oRXy"
      },
      "execution_count": null,
      "outputs": []
    }
  ]
}